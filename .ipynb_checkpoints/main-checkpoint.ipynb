{
 "cells": [
  {
   "cell_type": "code",
   "execution_count": 3,
   "metadata": {},
   "outputs": [],
   "source": [
    "import bokeh\n",
    "from bokeh.plotting import figure, output_file, show\n",
    "from bokeh.models import ColumnDataSource\n",
    "from bokeh.palettes import d3\n",
    "import pandas as pd"
   ]
  },
  {
   "cell_type": "code",
   "execution_count": null,
   "metadata": {},
   "outputs": [],
   "source": [
    "DATA_SOURCE = './DATA/ASW_YRI/PCA_ASW_YRI'\n",
    "COLUMN_NAMES = ['IDS', 'PC1','PC2', 'population']\n",
    "OUTPUT_FILE_NAME = 'PCA_on_ASW_YRI.html'\n",
    "PLOT_TITLE = 'PCA On ASW YRI'"
   ]
  },
  {
   "cell_type": "code",
   "execution_count": 4,
   "metadata": {},
   "outputs": [],
   "source": [
    "data=pd.read_csv(DATA_SOURCE, sep = '\\t')\n",
    "data.columns = COLUMN_NAMES\n",
    "\n",
    "output_file(OUTPUT_FILE_NAME)"
   ]
  },
  {
   "cell_type": "code",
   "execution_count": 5,
   "metadata": {},
   "outputs": [],
   "source": [
    "TOOLTIPS = [(\"index\", \"$index\"),(\"(x,y)\", \"($x, $y)\"), (\"name\",\"@IDS\")]\n",
    "\n",
    "\n",
    "#Potentialy more colors have to be provided, this depends on the number of categories being plotted \n",
    "palette = d3['Category10'][5][3:]\n",
    "\n",
    "\n",
    "p = figure(plot_width=800, plot_height=800, tooltips=TOOLTIPS,\n",
    "           title=PLOT_TITLE)\n",
    "\n",
    "color_map = bokeh.models.CategoricalColorMapper(factors=data['population'].unique(),palette=palette)\n",
    "\n",
    "for idx,i in enumerate(data['population'].unique()):\n",
    "    df = data[data['population']== i]\n",
    "    source = ColumnDataSource(data=df)\n",
    "    p.circle(x='PC1',y='PC2',color=palette[idx],source=source, legend = i)\n",
    "\n",
    "p.legend.location = \"top_left\"\n",
    "p.legend.click_policy=\"hide\""
   ]
  },
  {
   "cell_type": "code",
   "execution_count": 6,
   "metadata": {},
   "outputs": [],
   "source": [
    "show(p)"
   ]
  }
 ],
 "metadata": {
  "kernelspec": {
   "display_name": "Datascience_py3",
   "language": "python",
   "name": "myenv"
  },
  "language_info": {
   "codemirror_mode": {
    "name": "ipython",
    "version": 3
   },
   "file_extension": ".py",
   "mimetype": "text/x-python",
   "name": "python",
   "nbconvert_exporter": "python",
   "pygments_lexer": "ipython3",
   "version": "3.7.3"
  }
 },
 "nbformat": 4,
 "nbformat_minor": 2
}
